{
  "nbformat": 4,
  "nbformat_minor": 0,
  "metadata": {
    "colab": {
      "provenance": [],
      "authorship_tag": "ABX9TyOm4dFWQytkzGgarivyeZYa",
      "include_colab_link": true
    },
    "kernelspec": {
      "name": "python3",
      "display_name": "Python 3"
    },
    "language_info": {
      "name": "python"
    }
  },
  "cells": [
    {
      "cell_type": "markdown",
      "metadata": {
        "id": "view-in-github",
        "colab_type": "text"
      },
      "source": [
        "<a href=\"https://colab.research.google.com/github/ananyamohapatra20/Python_Codes/blob/main/LinkedList.ipynb\" target=\"_parent\"><img src=\"https://colab.research.google.com/assets/colab-badge.svg\" alt=\"Open In Colab\"/></a>"
      ]
    },
    {
      "cell_type": "code",
      "execution_count": 43,
      "metadata": {
        "id": "lP-7QFTW8CN0"
      },
      "outputs": [],
      "source": [
        "class Node:\n",
        "  def __init__(self, value):\n",
        "    self.data = value\n",
        "    self.next = None"
      ]
    },
    {
      "cell_type": "code",
      "source": [
        "class LinkedList:\n",
        "  def __init__(self):\n",
        "    self.head = None\n",
        "  def insert(self, value):\n",
        "    # 1. Create a node using the given value\n",
        "    new_node = Node(value)\n",
        "    # 2. Point the address of the new node --> head\n",
        "    new_node.next = self.head\n",
        "    # 3. Reassign head to new node\n",
        "    self.head = new_node\n",
        "  def insert_after(self,prev_data,new_data):\n",
        "    prev = self.head\n",
        "    while prev is not None:\n",
        "      if prev.data == prev_data:\n",
        "        break\n",
        "      prev = prev.next\n",
        "    if prev is None:\n",
        "      print(\"Node not Found\")\n",
        "    else:\n",
        "      new_node = Node(new_data)\n",
        "      new_node.next = prev.next\n",
        "      prev.next = new_node\n",
        "  def insert_end(self,value):\n",
        "    new_node = Node(value)\n",
        "    if self.head is None:\n",
        "      self.head = new_node\n",
        "    else:\n",
        "      tail = self.head\n",
        "      while tail.next is not None:\n",
        "        tail = tail.next\n",
        "      tail.next = new_node\n",
        "  def delete_head(self):\n",
        "    if self.head is None:\n",
        "      print(\"Linked List is empty\")\n",
        "    else:\n",
        "      self.head= self.head.next\n",
        "  def delete_end(self):\n",
        "    if self.head is None:\n",
        "      print(\"Linked List is Empty\")\n",
        "    else:\n",
        "      temp = self.head\n",
        "      while temp.next.next is not None:\n",
        "        temp = temp.next\n",
        "      temp.next = None\n",
        "  def delete_item(self, item):\n",
        "    if self.head.data == item:\n",
        "      self.head = self.head.next\n",
        "      return\n",
        "    temp = self.head\n",
        "    while temp.next is not None:\n",
        "      if temp.next.data == item:\n",
        "        break\n",
        "        temp = temp.next\n",
        "    if temp.next is None:\n",
        "      print(\"Item not found\")\n",
        "    else:\n",
        "      temp.next = temp.next.next\n",
        "  def traverse(self):\n",
        "    temp = self.head\n",
        "    while temp is not None:\n",
        "      print(temp.data, end=\"->\")\n",
        "      temp = temp.next\n"
      ],
      "metadata": {
        "id": "GtyktGR0_gSk"
      },
      "execution_count": 44,
      "outputs": []
    },
    {
      "cell_type": "code",
      "source": [
        "\n",
        "LL = LinkedList()\n",
        "LL.insert(10)\n",
        "LL.insert(20)\n",
        "LL.insert(30)"
      ],
      "metadata": {
        "id": "VQtDxIKnMVud"
      },
      "execution_count": 45,
      "outputs": []
    },
    {
      "cell_type": "code",
      "source": [
        "LL.traverse()"
      ],
      "metadata": {
        "colab": {
          "base_uri": "https://localhost:8080/"
        },
        "id": "4tcB1T_rMh7q",
        "outputId": "d46d6283-c575-432a-e65d-465ddca3fc22"
      },
      "execution_count": 46,
      "outputs": [
        {
          "output_type": "stream",
          "name": "stdout",
          "text": [
            "30->20->10->"
          ]
        }
      ]
    },
    {
      "cell_type": "code",
      "source": [
        "LL.insert_after(10,90)"
      ],
      "metadata": {
        "id": "vX3xdtQDMlmu"
      },
      "execution_count": 47,
      "outputs": []
    },
    {
      "cell_type": "code",
      "source": [
        "LL.traverse()"
      ],
      "metadata": {
        "colab": {
          "base_uri": "https://localhost:8080/"
        },
        "id": "vuWi8ZoTMy8R",
        "outputId": "1487d390-d611-4ee1-c243-6f2e08105276"
      },
      "execution_count": 48,
      "outputs": [
        {
          "output_type": "stream",
          "name": "stdout",
          "text": [
            "30->20->10->90->"
          ]
        }
      ]
    },
    {
      "cell_type": "code",
      "source": [
        "LL.delete_end()"
      ],
      "metadata": {
        "id": "mDKJ7CgZNh_7"
      },
      "execution_count": 49,
      "outputs": []
    },
    {
      "cell_type": "code",
      "source": [
        "LL.traverse()"
      ],
      "metadata": {
        "id": "sq-3jw_APliU",
        "colab": {
          "base_uri": "https://localhost:8080/"
        },
        "outputId": "ff11a463-a190-4c8a-d684-5bfd969149c7"
      },
      "execution_count": 50,
      "outputs": [
        {
          "output_type": "stream",
          "name": "stdout",
          "text": [
            "30->20->10->"
          ]
        }
      ]
    },
    {
      "cell_type": "code",
      "source": [
        "LL.delete_item(20)"
      ],
      "metadata": {
        "id": "S4OOP_ky1Vza"
      },
      "execution_count": 51,
      "outputs": []
    },
    {
      "cell_type": "code",
      "source": [
        "LL.traverse()"
      ],
      "metadata": {
        "colab": {
          "base_uri": "https://localhost:8080/"
        },
        "id": "-ZQikSS77lJD",
        "outputId": "f719a9fd-8a93-4a3e-bcb6-0d9c0e661c01"
      },
      "execution_count": 52,
      "outputs": [
        {
          "output_type": "stream",
          "name": "stdout",
          "text": [
            "30->10->"
          ]
        }
      ]
    }
  ]
}